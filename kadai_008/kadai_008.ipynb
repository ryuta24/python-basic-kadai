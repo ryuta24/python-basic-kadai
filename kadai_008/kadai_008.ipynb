{
  "nbformat": 4,
  "nbformat_minor": 0,
  "metadata": {
    "colab": {
      "provenance": []
    },
    "kernelspec": {
      "name": "python3",
      "display_name": "Python 3"
    },
    "language_info": {
      "name": "python"
    }
  },
  "cells": [
    {
      "cell_type": "code",
      "execution_count": 7,
      "metadata": {
        "colab": {
          "base_uri": "https://localhost:8080/"
        },
        "id": "_oP3sc3BESBf",
        "outputId": "2e6ac2ef-8d37-4766-a09b-a45f96d666e2"
      },
      "outputs": [
        {
          "output_type": "stream",
          "name": "stdout",
          "text": [
            "Buzz\n",
            "5\n"
          ]
        }
      ],
      "source": [
        "var = 5\n",
        "\n",
        "if var % 3 == 0:\n",
        "  print(\"Fizz\")\n",
        "\n",
        "if var % 5 == 0:\n",
        "  print(\"Buzz\")\n",
        "\n",
        "if var % 3 == 0 and var % 5 == 0:\n",
        "  print(\"FizzBuzz\")\n",
        "\n",
        "else:\n",
        "  print(var)\n"
      ]
    }
  ]
}