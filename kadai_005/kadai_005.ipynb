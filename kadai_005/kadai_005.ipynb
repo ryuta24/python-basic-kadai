{
  "nbformat": 4,
  "nbformat_minor": 0,
  "metadata": {
    "colab": {
      "provenance": []
    },
    "kernelspec": {
      "name": "python3",
      "display_name": "Python 3"
    },
    "language_info": {
      "name": "python"
    }
  },
  "cells": [
    {
      "cell_type": "code",
      "source": [
        "upmost = 10\n",
        "down = 20\n",
        "high = 5\n",
        "\n",
        "# 台形の面積を計算\n",
        "area = (upmost + down) * high / 2\n",
        "\n",
        "# 面積の表示\n",
        "print(str(area) + \"cm²\")"
      ],
      "metadata": {
        "colab": {
          "base_uri": "https://localhost:8080/"
        },
        "id": "E4Q5RmCIREud",
        "outputId": "3a3c67ce-bb34-48a2-c6ae-967d5204cc6a"
      },
      "execution_count": 1,
      "outputs": [
        {
          "output_type": "stream",
          "name": "stdout",
          "text": [
            "75.0cm²\n"
          ]
        }
      ]
    }
  ]
}